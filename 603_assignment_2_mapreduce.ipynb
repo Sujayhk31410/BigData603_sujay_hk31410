{
 "cells": [
  {
   "cell_type": "markdown",
   "id": "67ac70b4",
   "metadata": {},
   "source": [
    "#mydob is 03-19-2000,So for the data extraction, took chapter 3 from the harry potter books and extracted the text of first 10 pages starting from 19th till 29th and saved the text file as file1."
   ]
  },
  {
   "cell_type": "markdown",
   "id": "1654c42c",
   "metadata": {},
   "source": [
    "So for second text file, according to date of birth extracted data from page 100 untill 110 and save the file as file2.txt"
   ]
  },
  {
   "cell_type": "markdown",
   "id": "66a64df5",
   "metadata": {},
   "source": [
    "# 1. Write Python code and use MapReduce to count occurrences of each word in the first text file (file.txt). How many times each word is repeated?"
   ]
  },
  {
   "cell_type": "code",
   "execution_count": 1,
   "id": "9e67c580",
   "metadata": {},
   "outputs": [
    {
     "name": "stdout",
     "output_type": "stream",
     "text": [
      "Counter({'the': 112, 'to': 73, 'harry': 69, 'and': 68, 'a': 62, 'of': 56, 'he': 53, 's': 51, 'aunt': 50, 'his': 45, 'marge': 45, 'i': 40, 'vernon': 40, 'you': 38, 'uncle': 36, 'was': 31, 'in': 31, 'said': 29, 'it': 29, 't': 26, 'that': 25, 'at': 24, 'she': 23, 'petunia': 23, 'with': 22, 'her': 21, 'as': 20, 'www': 17, 'ztcprep': 17, 'com': 17, 'out': 17, 'll': 16, 'had': 16, 'him': 16, 'if': 15, 'for': 15, 'on': 15, 'dudley': 14, 'have': 14, 'potter': 12, 'prisoner': 12, 'but': 12, 'p': 11, 'g': 11, 'e': 11, 'azkaban': 11, 'j': 11, 'k': 11, 'rowling': 11, 'your': 11, 'all': 11, 'be': 11, 'like': 11, 'about': 10, 'got': 10, 'do': 10, 'into': 10, 'one': 10, 'me': 9, 'face': 9, 'what': 9, 'then': 9, 'an': 9, 'd': 9, 'now': 8, 'something': 8, 'this': 8, 'form': 7, 'not': 7, 'don': 7, 'there': 7, 'see': 7, 'my': 7, 'so': 7, 'up': 7, 'from': 6, 'by': 6, 'boy': 6, 'long': 6, 'well': 6, 'make': 6, 'door': 6, 'large': 6, 'were': 6, 'way': 6, 'time': 6, 'they': 6, 'get': 5, 'though': 5, 'any': 5, 'little': 5, 'st': 5, 'who': 5, 'been': 5, 'remember': 5, 'could': 5, 'glass': 5, 'back': 5, 'under': 5, 'hedwig': 5, 'look': 5, 'only': 5, 'down': 5, 'other': 5, 'tea': 5, 'ripper': 5, 'can': 5, 'last': 5, 'more': 5, 'go': 4, 'right': 4, 'here': 4, 'eyes': 4, 'great': 4, 'brutus': 4, 'visit': 4, 'himself': 4, 'hair': 4, 'kitchen': 4, 'car': 4, 'm': 4, 'school': 4, 'next': 4, 'hard': 4, 'note': 4, 'looking': 4, 'won': 4, 'still': 4, 'went': 4, 'where': 4, 'them': 4, 'their': 4, 'hogsmeade': 4, 'hall': 4, 'couldn': 4, 'would': 4, 'too': 4, 'stomach': 4, 'hand': 4, 'dogs': 4, 'yes': 4, 'thing': 4, 'brandy': 4, 'need': 3, 'head': 3, 'when': 3, 'heard': 3, 'want': 3, 'yourself': 3, 'will': 3, 'through': 3, 'purple': 3, 've': 3, 'told': 3, 'dursleys': 3, 'old': 3, 'off': 3, 'come': 3, 'dudders': 3, 'no': 3, 'bit': 3, 'quickly': 3, 'front': 3, 'taking': 3, 'wanted': 3, 'are': 3, 'snapped': 3, 'sign': 3, 'fist': 3, 'over': 3, 'even': 3, 'pulled': 3, 'upstairs': 3, 'bedroom': 3, 'errol': 3, 'seemed': 3, 'both': 3, 'ron': 3, 'after': 3, 'feeling': 3, 'outside': 3, 'very': 3, 'suitcase': 3, 'came': 3, 'just': 3, 'against': 3, 'wasn': 3, 'case': 3, 'colonel': 3, 'fubster': 3, 'good': 3, 'again': 3, 'say': 3, 'thought': 3, 'table': 3, 'started': 3, 'made': 3, 'day': 3, 'wine': 3, 'magic': 3, 'quite': 3, 'pie': 3, 'finger': 2, 'we': 2, 'straight': 2, 'television': 2, 'watching': 2, 'growled': 2, 'keep': 2, 're': 2, 'talking': 2, 'does': 2, 'anything': 2, 'funny': 2, 'while': 2, 'teeth': 2, 'mean': 2, 'secure': 2, 'center': 2, 'incurably': 2, 'criminal': 2, 'boys': 2, 'sticking': 2, 'story': 2, 'or': 2, 'trouble': 2, 'sat': 2, 'faced': 2, 'staring': 2, 'week': 2, 'birthday': 2, 'present': 2, 'feet': 2, 'attention': 2, 'blond': 2, 'bow': 2, 'tie': 2, 'turned': 2, 'ask': 2, 'suspiciously': 2, 'third': 2, 'allowed': 2, 'permission': 2, 'why': 2, 'carefully': 2, 'voice': 2, 'exactly': 2, 'lot': 2, 'let': 2, 'stuffing': 2, 'roared': 2, 'raised': 2, 'stood': 2, 'knocking': 2, 'forget': 2, 'tell': 2, 'stopped': 2, 'act': 2, 'thinking': 2, 'during': 2, 'kept': 2, 'ruddy': 2, 'open': 2, 'didn': 2, 'going': 2, 'better': 2, 'presents': 2, 'cage': 2, 'clear': 2, 'write': 2, 'put': 2, 'empty': 2, 'away': 2, 'inside': 2, 'reached': 2, 'trying': 2, 'flat': 2, 'looked': 2, 'soon': 2, 'mustache': 2, 'fat': 2, 'wind': 2, 'knew': 2, 'because': 2, 'enough': 2, 'rather': 2, 'bony': 2, 'some': 2, 'leaving': 2, 'began': 2, 'saw': 2, 'clean': 2, 'oh': 2, 'boomed': 2, 'first': 2, 'barked': 2, 'tone': 2, 'orphanage': 2, 'than': 2, 'since': 2, 'took': 2, 'is': 2, 'cases': 2, 'use': 2, 'might': 2, 'excellent': 2, 'hitting': 2, 'times': 2, 'clearly': 2, 'without': 2, 'stay': 2, 'huge': 2, 'nothing': 2, 'think': 2, 'wrong': 2, 'did': 2, 'ministry': 2, 'wizard': 2, 'handbook': 2, 'evening': 2, 'coffee': 2, 'bottle': 2, 'twelve': 2, 'patted': 2, 'sized': 2, 'blood': 2, 'saying': 2, 'bad': 2, '19': 1, 'threateningly': 1, 'few': 1, 'things': 1, 'before': 1, 'collect': 1, 'smirked': 1, 'withdrew': 1, 'gaze': 1, 'being': 1, 'bullied': 1, 'favorite': 1, 'entertainment': 1, 'firstly': 1, 'civil': 1, 'tongue': 1, 'bitterly': 1, 'secondly': 1, 'acting': 1, 'reply': 1, 'doesn': 1, 'know': 1, 'abnormality': 1, 'stuff': 1, 'behave': 1, 'gritted': 1, 'thirdly': 1, 'slits': 1, 'attend': 1, 'yelled': 1, 'spat': 1, 'white': 1, 'furious': 1, 'hardly': 1, 'able': 1, 'believe': 1, 'coming': 1, 'worst': 1, 'ever': 1, 'given': 1, 'including': 1, 'pair': 1, 'socks': 1, '20': 1, 'getting': 1, 'heavily': 1, 'station': 1, 'along': 1, 'ride': 1, 'whose': 1, 'returned': 1, 'finished': 1, 'threatening': 1, 'duddy': 1, 'smart': 1, 'auntie': 1, 'smoothing': 1, 'thick': 1, 'mummy': 1, 'bought': 1, 'lovely': 1, 'new': 1, 'clapped': 1, 'porky': 1, 'shoulder': 1, 'left': 1, 'sitting': 1, 'kind': 1, 'horrified': 1, 'trance': 1, 'sudden': 1, 'idea': 1, 'abandoning': 1, 'toast': 1, 'followed': 1, 'pulling': 1, 'coat': 1, 'snarled': 1, 'coldly': 1, 'eyed': 1, 'years': 1, 'hog': 1, 'village': 1, 'sometimes': 1, 'keys': 1, 'hook': 1, '21': 1, 'rush': 1, 'should': 1, 'sneered': 1, 'choosing': 1, 'words': 1, 'work': 1, 'pretending': 1, 'whatsits': 1, 'bellowed': 1, 'pleased': 1, 'hear': 1, 'definite': 1, 'panic': 1, 'calmly': 1, 'sound': 1, 'convincing': 1, 'accidentally': 1, 'slip': 1, 'knocked': 1, 'advancing': 1, 'ground': 1, 'grimly': 1, 'ugly': 1, 'puce': 1, 'swear': 1, 'supposed': 1, 'mug': 1, 'normal': 1, 'everything': 1, 'bared': 1, 'vein': 1, 'throbbing': 1, 'temple': 1, '22': 1, 'finally': 1, 'shall': 1, 'monitor': 1, 'behavior': 1, 'end': 1, 'toed': 1, 'line': 1, 'wheeled': 1, 'around': 1, 'slammed': 1, 'panes': 1, 'top': 1, 'fell': 1, 'return': 1, 'real': 1, 'muggle': 1, 'start': 1, 'slowly': 1, 'sadly': 1, 'gathered': 1, 'cards': 1, 'hid': 1, 'loose': 1, 'floorboard': 1, 'homework': 1, 'recovered': 1, 'asleep': 1, 'heads': 1, 'wings': 1, 'sighed': 1, 'poked': 1, 'awake': 1, 'gloomily': 1, 'explaining': 1, 'amber': 1, 'reproachful': 1, 'fault': 1, 'hermione': 1, 'ten': 1, 'minutes': 1, 'later': 1, 'bound': 1, 'leg': 1, 'soared': 1, 'window': 1, 'sight': 1, 'thoroughly': 1, 'miserable': 1, 'wardrobe': 1, 'brood': 1, 'shrieking': 1, 'stairs': 1, 'ready': 1, 'welcome': 1, 'guest': 1, '23': 1, 'point': 1, 'lie': 1, 'loved': 1, 'criticizing': 1, 'untidier': 1, 'happier': 1, 'crunch': 1, 'gravel': 1, 'driveway': 1, 'clunk': 1, 'doors': 1, 'footsteps': 1, 'garden': 1, 'path': 1, 'hissed': 1, 'gloom': 1, 'threshold': 1, 'beefy': 1, 'bushy': 1, 'held': 1, 'enormous': 1, 'tucked': 1, 'evil': 1, 'tempered': 1, 'bulldog': 1, 'neffy': 1, 'poo': 1, 'waddling': 1, 'plastered': 1, 'visible': 1, 'many': 1, 'chins': 1, 'thrust': 1, 'seized': 1, 'tight': 1, 'armed': 1, 'hug': 1, 'planted': 1, 'kiss': 1, 'cheek': 1, 'perfectly': 1, 'hugs': 1, 'paid': 1, 'sure': 1, 'broke': 1, 'apart': 1, 'crisp': 1, 'twenty': 1, 'pound': 1, 'clutched': 1, '24': 1, 'shouted': 1, 'striding': 1, 'past': 1, 'hat': 1, 'stand': 1, 'kissed': 1, 'bumped': 1, 'jaw': 1, 'cheekbone': 1, 'smiling': 1, 'jovially': 1, 'shut': 1, 'take': 1, 'saucer': 1, 'proceeded': 1, 'alone': 1, 'complaining': 1, 'excuse': 1, 'fine': 1, 'heave': 1, 'spare': 1, 'supplied': 1, 'fruitcake': 1, 'lapping': 1, 'noisily': 1, 'corner': 1, 'wince': 1, 'slightly': 1, 'specks': 1, 'drool': 1, 'flecked': 1, 'floor': 1, 'hated': 1, 'animals': 1, 'asked': 1, 'managing': 1, 'retired': 1, 'leave': 1, 'poor': 1, 'pines': 1, 'growl': 1, 'directed': 1, '25': 1, 'ungrateful': 1, 'damn': 1, 'wouldn': 1, 'done': 1, 'myself': 1, 'gone': 1, 'dumped': 1, 'doorstep': 1, 'bursting': 1, 'live': 1, 'forced': 1, 'painful': 1, 'smile': 1, 'smirk': 1, 'haven': 1, 'improved': 1, 'hoped': 1, 'knock': 1, 'manners': 1, 'gulp': 1, 'wiped': 1, 'send': 1, 'promptly': 1, 'rate': 1, 'institution': 1, 'hopeless': 1, 'cane': 1, 'across': 1, 'er': 1, 'nodded': 1, 'curtly': 1, 'behind': 1, 'properly': 1, 'added': 1, 'namby': 1, 'pamby': 1, 'wishy': 1, 'washy': 1, 'nonsense': 1, 'people': 1, 'deserve': 1, 'thrashing': 1, 'needed': 1, 'ninety': 1, 'nine': 1, 'hundred': 1, 'beaten': 1, 'often': 1, 'yeah': 1, 'loads': 1, '26': 1, 'narrowed': 1, 'speak': 1, 'beatings': 1, 'casual': 1, 'aren': 1, 'approve': 1, 'extreme': 1, 'force': 1, 'perhaps': 1, 'worried': 1, 'bargain': 1, 'changed': 1, 'subject': 1, 'abruptly': 1, 'news': 1, 'morning': 1, 'escaped': 1, 'eh': 1, 'herself': 1, 'home': 1, 'caught': 1, 'almost': 1, 'longingly': 1, 'life': 1, 'number': 1, 'four': 1, 'usually': 1, 'encouraged': 1, 'which': 1, 'happy': 1, 'eye': 1, 'boom': 1, 'suggestions': 1, 'improvement': 1, 'delighted': 1, 'comparing': 1, 'pleasure': 1, 'buying': 1, 'expensive': 1, 'glaring': 1, 'daring': 1, 'hadn': 1, 'also': 1, 'throwing': 1, 'dark': 1, 'hints': 1, 'such': 1, 'unsatisfactory': 1, 'person': 1, 'mustn': 1, 'blame': 1, 'lunch': 1, 'rotten': 1, 'anyone': 1, 'tried': 1, 'concentrate': 1, 'food': 1, 'hands': 1, 'shook': 1, 'starting': 1, 'burn': 1, 'anger': 1, 'rise': 1, '27': 1, 'basic': 1, 'rules': 1, 'breeding': 1, 'bitch': 1, 'pup': 1, 'moment': 1, 'wineglass': 1, 'holding': 1, 'exploded': 1, 'shards': 1, 'flew': 1, 'every': 1, 'direction': 1, 'sputtered': 1, 'blinked': 1, 'dripping': 1, 'squealed': 1, 'worry': 1, 'grunted': 1, 'mopping': 1, 'napkin': 1, 'must': 1, 'squeezed': 1, 'same': 1, 'fuss': 1, 'firm': 1, 'grip': 1, 'decided': 1, 'skip': 1, 'dessert': 1, 'escape': 1, 'leaned': 1, 'wall': 1, 'breathing': 1, 'deeply': 1, 'lost': 1, 'control': 1, 'explode': 1, 'afford': 1, 'happen': 1, 'stake': 1, 'carried': 1, 'underage': 1, 'forbidden': 1, 'law': 1, 'record': 1, 'either': 1, 'summer': 1, 'gotten': 1, 'official': 1, 'warning': 1, 'stated': 1, 'privet': 1, 'drive': 1, 'expulsion': 1, 'hogwarts': 1, '28': 1, 'hurried': 1, 'three': 1, 'days': 1, 'forcing': 1, 'broomcare': 1, 'whenever': 1, 'worked': 1, 'give': 1, 'glazed': 1, 'voicing': 1, 'opinion': 1, 'mentally': 1, 'subnormal': 1, 'final': 1, 'arrived': 1, 'cooked': 1, 'fancy': 1, 'dinner': 1, 'uncorked': 1, 'several': 1, 'bottles': 1, 'soup': 1, 'salmon': 1, 'single': 1, 'mention': 1, 'faults': 1, 'lemon': 1, 'meringue': 1, 'bored': 1, 'talk': 1, 'grunnings': 1, 'drill': 1, 'making': 1, 'company': 1, 'brought': 1, 'tempt': 1, 'already': 1, 'red': 1, 'small': 1, 'chuckled': 1, 'ticket': 1, 'eating': 1, 'fourth': 1, 'slice': 1, 'sipping': 1, 'really': 1, 'disappear': 1, 'met': 1, 'angry': 1, 'sit': 1, 'aah': 1, 'smacking': 1, 'lips': 1, 'putting': 1, 'nosh': 1, 'normally': 1, 'fry': 1, 'burped': 1, 'richly': 1, 'tweed': 1, '29': 1, 'pardon': 1, 'healthy': 1, 'winking': 1, 'proper': 1, 'man': 1, 'father': 1, 'spot': 1, 'jerked': 1, 'felt': 1, 'clench': 1, 'runty': 1, 'drown': 1, 'year': 1, 'ratty': 1, 'weak': 1, 'underbred': 1, 'page': 1, 'book': 1, 'charm': 1, 'cure': 1, 'reluctant': 1, 'reversers': 1, 'comes': 1, 'family': 1, 'shovellike': 1, 'sister': 1, 'egg': 1, 'turn': 1, 'best': 1, 'families': 1, 'ran': 1, 'wastrel': 1, 'result': 1, 'us': 1, 'plate': 1, 'ringing': 1, 'ears': 1, 'grasp': 1, 'broom': 1, 'firmly': 1, 'tail': 1, 'boring': 1, 'drills': 1, 'loudly': 1, 'seizing': 1, 'splashing': 1, 'tablecloth': 1, 'never': 1, 'extremely': 1, 'tense': 1, 'gape': 1, 'parents': 1})\n"
     ]
    }
   ],
   "source": [
    "import re\n",
    "from collections import Counter\n",
    "\n",
    "def map_words(text):\n",
    "    # Split text into individual words and remove punctuation\n",
    "    words = re.findall(r'\\b\\w+\\b', text.lower())\n",
    "    return words\n",
    "\n",
    "file_path = 'file1.txt'\n",
    "\n",
    "with open(file_path, 'r') as file:\n",
    "    # Reading the entire file and converting it to lowercase\n",
    "    text = file.read().lower()\n",
    "\n",
    "words = map_words(text)\n",
    "word_counts = Counter(words)\n",
    "print(word_counts)"
   ]
  },
  {
   "cell_type": "markdown",
   "id": "de9d1569",
   "metadata": {},
   "source": [
    "# 2. From the second text file (file2.txt), write Python code and use MapReduce to count how many times non-English words (names, places, spells etc.) were used. List those words and how many times each was repeated."
   ]
  },
  {
   "cell_type": "code",
   "execution_count": 5,
   "id": "0ea2acb5",
   "metadata": {},
   "outputs": [
    {
     "name": "stdout",
     "output_type": "stream",
     "text": [
      "Collecting pyspellchecker\n",
      "  Downloading pyspellchecker-0.7.2-py3-none-any.whl (3.4 MB)\n",
      "\u001b[2K     \u001b[90m━━━━━━━━━━━━━━━━━━━━━━━━━━━━━━━━━━━━━━━━\u001b[0m \u001b[32m3.4/3.4 MB\u001b[0m \u001b[31m30.8 MB/s\u001b[0m eta \u001b[36m0:00:00\u001b[0ma \u001b[36m0:00:01\u001b[0m\n",
      "\u001b[?25hInstalling collected packages: pyspellchecker\n",
      "Successfully installed pyspellchecker-0.7.2\n",
      "Note: you may need to restart the kernel to use updated packages.\n"
     ]
    }
   ],
   "source": [
    "pip install pyspellchecker"
   ]
  },
  {
   "cell_type": "code",
   "execution_count": 6,
   "id": "e6ab1669",
   "metadata": {},
   "outputs": [
    {
     "name": "stdout",
     "output_type": "stream",
     "text": [
      "p: 11\n",
      "g: 11\n",
      "azkaban: 13\n",
      "j: 11\n",
      "k: 11\n",
      "rowling: 11\n",
      "www: 17\n",
      "ztcprep: 17\n",
      "gryffindor: 6\n",
      "ravenclaw: 1\n",
      "hufflepuff: 1\n",
      "slytherin: 5\n",
      "mcgonagall: 4\n",
      "t: 15\n",
      "mr: 1\n",
      "weasley: 2\n",
      "blandly: 1\n",
      "unenthusiastic: 1\n",
      "s: 19\n",
      "kettleburn: 2\n",
      "rubeus: 1\n",
      "gamekeeping: 1\n",
      "d: 3\n",
      "gryffindors: 1\n",
      "draco: 1\n",
      "malfoy: 9\n",
      "slytherins: 1\n",
      "parkinson: 1\n",
      "woooooooo: 1\n",
      "bracingly: 1\n",
      "ll: 4\n",
      "arithmancy: 1\n",
      "moleskin: 1\n",
      "absentmindedly: 1\n",
      "everythin: 1\n",
      "clanked: 2\n",
      "overbalance: 1\n",
      "crinolines: 1\n",
      "dizzier: 2\n",
      "cadogan: 1\n",
      "sibyll: 1\n",
      "trelawney: 1\n"
     ]
    }
   ],
   "source": [
    "import re\n",
    "from collections import defaultdict\n",
    "from spellchecker import SpellChecker\n",
    "\n",
    "# Function to split text into words and remove punctuation\n",
    "def map_words(text):\n",
    "    # Split text into individual words and remove punctuation\n",
    "    words = re.findall(r'\\b\\w+\\b', text.lower())\n",
    "    return words\n",
    "\n",
    "# Function for the map phase\n",
    "def map_function(text, spell_checker):\n",
    "    word_count = defaultdict(int)\n",
    "    words = map_words(text)\n",
    "    for word in words:\n",
    "        if not spell_checker.correction(word) == word:\n",
    "            word_count[word] += 1\n",
    "    return list(word_count.items()) \n",
    "\n",
    "# Function for the reduce phase\n",
    "def reduce_function(word_counts_list):\n",
    "    reduced_count = defaultdict(int)\n",
    "    for word_counts in word_counts_list:\n",
    "        for word, count in word_counts:\n",
    "            reduced_count[word] += count\n",
    "    return reduced_count\n",
    "\n",
    "# Read the text from file2.txt\n",
    "with open('file2.txt', 'r') as file:\n",
    "    text = file.read()\n",
    "\n",
    "spell_checker = SpellChecker()  # Initialize the spell checker\n",
    "\n",
    "lines = text.splitlines() # Split the text into lines\n",
    "\n",
    "# Map phase\n",
    "mapped_results = [map_function(line, spell_checker) for line in lines]\n",
    "\n",
    "# Reduce phase\n",
    "reduced_count = reduce_function(mapped_results)\n",
    "\n",
    "# Print the potentially non-English words and their counts\n",
    "for word, count in reduced_count.items():\n",
    "    print(f'{word}: {count}')"
   ]
  }
 ],
 "metadata": {
  "kernelspec": {
   "display_name": "Python 3 (ipykernel)",
   "language": "python",
   "name": "python3"
  },
  "language_info": {
   "codemirror_mode": {
    "name": "ipython",
    "version": 3
   },
   "file_extension": ".py",
   "mimetype": "text/x-python",
   "name": "python",
   "nbconvert_exporter": "python",
   "pygments_lexer": "ipython3",
   "version": "3.9.13"
  }
 },
 "nbformat": 4,
 "nbformat_minor": 5
}
