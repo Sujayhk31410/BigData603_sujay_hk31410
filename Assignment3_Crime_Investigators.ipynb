{
 "cells": [
  {
   "cell_type": "code",
   "execution_count": 167,
   "id": "6abb870f",
   "metadata": {},
   "outputs": [
    {
     "name": "stdout",
     "output_type": "stream",
     "text": [
      "Requirement already satisfied: pyspark in /opt/anaconda3/lib/python3.9/site-packages (3.5.0)\r\n",
      "Requirement already satisfied: py4j==0.10.9.7 in /opt/anaconda3/lib/python3.9/site-packages (from pyspark) (0.10.9.7)\r\n"
     ]
    }
   ],
   "source": [
    "#Import pyspark\n",
    "!pip install pyspark"
   ]
  },
  {
   "cell_type": "code",
   "execution_count": 168,
   "id": "94e01afb",
   "metadata": {},
   "outputs": [],
   "source": [
    "# Import SparkSession\n",
    "from pyspark.sql import SparkSession"
   ]
  },
  {
   "cell_type": "code",
   "execution_count": 169,
   "id": "57e2ecc5",
   "metadata": {},
   "outputs": [],
   "source": [
    "spark_session = SparkSession.builder.appName(\"ChicagoCrimeAnalysis\").getOrCreate()"
   ]
  },
  {
   "cell_type": "code",
   "execution_count": 170,
   "id": "f3010aa9",
   "metadata": {},
   "outputs": [
    {
     "data": {
      "text/html": [
       "\n",
       "            <div>\n",
       "                <p><b>SparkSession - in-memory</b></p>\n",
       "                \n",
       "        <div>\n",
       "            <p><b>SparkContext</b></p>\n",
       "\n",
       "            <p><a href=\"http://sujays-air:4041\">Spark UI</a></p>\n",
       "\n",
       "            <dl>\n",
       "              <dt>Version</dt>\n",
       "                <dd><code>v3.5.0</code></dd>\n",
       "              <dt>Master</dt>\n",
       "                <dd><code>local[*]</code></dd>\n",
       "              <dt>AppName</dt>\n",
       "                <dd><code>ChicagoCrimeAnalysis</code></dd>\n",
       "            </dl>\n",
       "        </div>\n",
       "        \n",
       "            </div>\n",
       "        "
      ],
      "text/plain": [
       "<pyspark.sql.session.SparkSession at 0x7f9738080700>"
      ]
     },
     "execution_count": 170,
     "metadata": {},
     "output_type": "execute_result"
    }
   ],
   "source": [
    "spark_session\n",
    "# Import a Spark function from library"
   ]
  },
  {
   "cell_type": "code",
   "execution_count": 171,
   "id": "c7ceb8d8",
   "metadata": {},
   "outputs": [],
   "source": [
    "from pyspark.sql.types import StructType, StructField, IntegerType, StringType, TimestampType, FloatType\n",
    "\n",
    "schema_name = StructType([\n",
    "    StructField(\"ID\", IntegerType(), True),\n",
    "    StructField(\"CaseNumber\", StringType(), True),\n",
    "    StructField(\"Date\", StringType(), True),\n",
    "    StructField(\"Block\", StringType(), True),\n",
    "    StructField(\"IUCR\", StringType(), True),\n",
    "    StructField(\"PrimaryType\", StringType(), True),\n",
    "    StructField(\"Description\", StringType(), True),\n",
    "    StructField(\"LocationDescription\", StringType(), True),\n",
    "    StructField(\"Arrest\", StringType(), True),\n",
    "    StructField(\"Domestic\", StringType(), True),\n",
    "    StructField(\"Beat\", IntegerType(), True),\n",
    "    StructField(\"District\", IntegerType(), True),\n",
    "    StructField(\"Ward\", IntegerType(), True),\n",
    "    StructField(\"CommunityArea\", IntegerType(), True),\n",
    "    StructField(\"FBICode\", StringType(), True),\n",
    "    StructField(\"XCoordinate\", FloatType(), True),\n",
    "    StructField(\"YCoordinate\", FloatType(), True),\n",
    "    StructField(\"Year\", IntegerType(), True),\n",
    "    StructField(\"UpdatedOn\", TimestampType(), True),\n",
    "    StructField(\"Latitude\", FloatType(), True),\n",
    "    StructField(\"Longitude\", FloatType(), True),\n",
    "    StructField(\"Location\", StringType(), True)\n",
    "])\n"
   ]
  },
  {
   "cell_type": "code",
   "execution_count": 172,
   "id": "610402d2",
   "metadata": {},
   "outputs": [
    {
     "name": "stderr",
     "output_type": "stream",
     "text": [
      "                                                                                \r"
     ]
    }
   ],
   "source": [
    "df=spark_session.read.csv(\"Crimes_-_2001_to_Present.csv\",header=True,inferSchema=True)"
   ]
  },
  {
   "cell_type": "code",
   "execution_count": 173,
   "id": "07bce6ec",
   "metadata": {},
   "outputs": [
    {
     "data": {
      "text/plain": [
       "['ID',\n",
       " 'Case Number',\n",
       " 'Date',\n",
       " 'Block',\n",
       " 'IUCR',\n",
       " 'Primary Type',\n",
       " 'Description',\n",
       " 'Location Description',\n",
       " 'Arrest',\n",
       " 'Domestic',\n",
       " 'Beat',\n",
       " 'District',\n",
       " 'Ward',\n",
       " 'Community Area',\n",
       " 'FBI Code',\n",
       " 'X Coordinate',\n",
       " 'Y Coordinate',\n",
       " 'Year',\n",
       " 'Updated On',\n",
       " 'Latitude',\n",
       " 'Longitude',\n",
       " 'Location']"
      ]
     },
     "execution_count": 173,
     "metadata": {},
     "output_type": "execute_result"
    }
   ],
   "source": [
    "df.columns"
   ]
  },
  {
   "cell_type": "code",
   "execution_count": 174,
   "id": "38044bea",
   "metadata": {},
   "outputs": [
    {
     "name": "stderr",
     "output_type": "stream",
     "text": [
      "                                                                                \r"
     ]
    },
    {
     "data": {
      "text/plain": [
       "7918798"
      ]
     },
     "execution_count": 174,
     "metadata": {},
     "output_type": "execute_result"
    }
   ],
   "source": [
    "df.count()"
   ]
  },
  {
   "cell_type": "code",
   "execution_count": 175,
   "id": "a4f2d23c",
   "metadata": {},
   "outputs": [
    {
     "name": "stdout",
     "output_type": "stream",
     "text": [
      "+--------+-----------+--------------------+--------------------+----+------------------+--------------------+--------------------+------+--------+----+--------+----+--------------+--------+------------+------------+----+--------------------+------------+-------------+--------------------+\n",
      "|      ID|Case Number|                Date|               Block|IUCR|      Primary Type|         Description|Location Description|Arrest|Domestic|Beat|District|Ward|Community Area|FBI Code|X Coordinate|Y Coordinate|Year|          Updated On|    Latitude|    Longitude|            Location|\n",
      "+--------+-----------+--------------------+--------------------+----+------------------+--------------------+--------------------+------+--------+----+--------+----+--------------+--------+------------+------------+----+--------------------+------------+-------------+--------------------+\n",
      "|11037294|   JA371270|03/18/2015 12:00:...|   0000X W WACKER DR|1153|DECEPTIVE PRACTICE|FINANCIAL IDENTIT...|                BANK| false|   false| 111|       1|  42|            32|      11|        NULL|        NULL|2015|08/01/2017 03:52:...|        NULL|         NULL|                NULL|\n",
      "|11646293|   JC213749|12/20/2018 03:00:...|023XX N LOCKWOOD AVE|1154|DECEPTIVE PRACTICE|FINANCIAL IDENTIT...|           APARTMENT| false|   false|2515|      25|  36|            19|      11|        NULL|        NULL|2018|04/06/2019 04:04:...|        NULL|         NULL|                NULL|\n",
      "|11645836|   JC212333|05/01/2016 12:25:...| 055XX S ROCKWELL ST|1153|DECEPTIVE PRACTICE|FINANCIAL IDENTIT...|                NULL| false|   false| 824|       8|  15|            63|      11|        NULL|        NULL|2016|04/06/2019 04:04:...|        NULL|         NULL|                NULL|\n",
      "|11645959|   JC211511|12/20/2018 04:00:...|  045XX N ALBANY AVE|2820|     OTHER OFFENSE|    TELEPHONE THREAT|           RESIDENCE| false|   false|1724|      17|  33|            14|     08A|        NULL|        NULL|2018|04/06/2019 04:04:...|        NULL|         NULL|                NULL|\n",
      "|11645601|   JC212935|06/01/2014 12:01:...| 087XX S SANGAMON ST|1153|DECEPTIVE PRACTICE|FINANCIAL IDENTIT...|           RESIDENCE| false|   false|2222|      22|  21|            71|      11|        NULL|        NULL|2014|04/06/2019 04:04:...|        NULL|         NULL|                NULL|\n",
      "|11646166|   JC213529|09/01/2018 12:01:...|082XX S INGLESIDE...|0810|             THEFT|           OVER $500|           RESIDENCE| false|    true| 631|       6|   8|            44|      06|        NULL|        NULL|2018|04/06/2019 04:04:...|        NULL|         NULL|                NULL|\n",
      "|11645648|   JC212959|01/01/2018 08:00:...| 024XX N MONITOR AVE|1153|DECEPTIVE PRACTICE|FINANCIAL IDENTIT...|           RESIDENCE| false|   false|2515|      25|  30|            19|      11|        NULL|        NULL|2018|04/06/2019 04:04:...|        NULL|         NULL|                NULL|\n",
      "|11645557|   JC212685|04/01/2018 12:01:...|  080XX S VERNON AVE|1153|DECEPTIVE PRACTICE|FINANCIAL IDENTIT...|           RESIDENCE| false|   false| 631|       6|   6|            44|      11|        NULL|        NULL|2018|04/06/2019 04:04:...|        NULL|         NULL|                NULL|\n",
      "|11645527|   JC212744|02/02/2015 10:00:...|  069XX W ARCHER AVE|1153|DECEPTIVE PRACTICE|FINANCIAL IDENTIT...|               OTHER| false|   false| 811|       8|  23|            56|      11|        NULL|        NULL|2015|04/06/2019 04:04:...|        NULL|         NULL|                NULL|\n",
      "|11645833|   JC213044|05/05/2012 12:25:...|     057XX W OHIO ST|1153|DECEPTIVE PRACTICE|FINANCIAL IDENTIT...|                NULL| false|   false|1511|      15|  29|            25|      11|        NULL|        NULL|2012|04/06/2019 04:04:...|        NULL|         NULL|                NULL|\n",
      "|11645568|   JC212803|12/18/2018 11:00:...|  032XX N WILTON AVE|1153|DECEPTIVE PRACTICE|FINANCIAL IDENTIT...|           RESIDENCE| false|   false|1924|      19|  44|             6|      11|        NULL|        NULL|2018|04/06/2019 04:04:...|        NULL|         NULL|                NULL|\n",
      "|12045583|   JD226426|05/07/2020 10:24:...| 035XX S INDIANA AVE|0820|             THEFT|      $500 AND UNDER|           APARTMENT| false|   false| 212|       2|   3|            35|      06|     1178180|     1881621|2020|05/14/2020 08:47:...|41.830481843|-87.621751752|(41.830481843, -8...|\n",
      "|12031001|   JD209965|04/16/2020 05:00:...|     005XX W 32ND ST|0460|           BATTERY|              SIMPLE|           APARTMENT|  true|   false| 915|       9|  11|            60|     08B|     1173292|     1883705|2020|04/23/2020 03:45:...|41.836310224|-87.639624112|(41.836310224, -8...|\n",
      "|12093529|   JD282112|07/01/2020 10:16:...|   081XX S COLES AVE|051A|           ASSAULT|AGGRAVATED - HANDGUN|              STREET|  true|   false| 422|       4|   7|            46|     04A|     1198234|     1851595|2020|07/08/2020 03:41:...|41.747609555|-87.549179329|(41.747609555, -8...|\n",
      "|12178140|   JD381597|09/27/2020 11:29:...| 065XX S WOLCOTT AVE|0460|           BATTERY|              SIMPLE|RESIDENCE - PORCH...| false|   false| 726|       7|  15|            67|     08B|     1164812|     1861251|2020|10/04/2020 03:43:...| 41.77487752|-87.671374872|(41.77487752, -87...|\n",
      "| 4144897|   HL474854|07/10/2005 03:00:...| 062XX S ABERDEEN ST|0430|           BATTERY|AGGRAVATED: OTHER...|              STREET| false|   false| 712|       7|  16|            68|     04B|     1170050|     1863524|2005|02/28/2018 03:56:...|41.781002663|-87.652107119|(41.781002663, -8...|\n",
      "| 1744168|    G553545|09/15/2001 02:00:...|     013XX W POLK ST|0460|           BATTERY|              SIMPLE|              STREET| false|   false|1213|      12|NULL|          NULL|     08B|        NULL|        NULL|2001|08/17/2015 03:03:...|        NULL|         NULL|                NULL|\n",
      "|11641644|   JC207234|03/31/2019 09:30:...|   005XX N ogden ave|0890|             THEFT|       FROM BUILDING|          RESTAURANT| false|   false|1215|      12|   1|            24|      06|        NULL|        NULL|2019|04/07/2019 04:05:...|        NULL|         NULL|                NULL|\n",
      "|11615821|   JC176668|01/01/2016 12:00:...| 054XX N NATCHEZ AVE|1195|DECEPTIVE PRACTICE|FINAN EXPLOIT-ELD...|           RESIDENCE| false|    true|1613|      16|  45|            10|      11|        NULL|        NULL|2016|03/08/2019 04:36:...|        NULL|         NULL|                NULL|\n",
      "|12126129|   JD321064|08/04/2020 08:28:...| 081XX S LOOMIS BLVD|143A| WEAPONS VIOLATION|UNLAWFUL POSSESSI...|              STREET|  true|   false| 613|       6|  21|            71|      15|     1168412|     1850836|2020|08/11/2020 03:42:...|41.746220584|-87.658477307|(41.746220584, -8...|\n",
      "+--------+-----------+--------------------+--------------------+----+------------------+--------------------+--------------------+------+--------+----+--------+----+--------------+--------+------------+------------+----+--------------------+------------+-------------+--------------------+\n",
      "only showing top 20 rows\n",
      "\n"
     ]
    }
   ],
   "source": [
    "df.show()"
   ]
  },
  {
   "cell_type": "markdown",
   "id": "fe06dd70",
   "metadata": {},
   "source": [
    "Remove null values"
   ]
  },
  {
   "cell_type": "code",
   "execution_count": 176,
   "id": "d9e4a499",
   "metadata": {},
   "outputs": [
    {
     "name": "stdout",
     "output_type": "stream",
     "text": [
      "+--------+-----------+--------------------+--------------------+----+--------------------+--------------------+--------------------+------+--------+----+--------+----+--------------+--------+------------+------------+----+--------------------+------------+-------------+--------------------+\n",
      "|      ID|Case Number|                Date|               Block|IUCR|        Primary Type|         Description|Location Description|Arrest|Domestic|Beat|District|Ward|Community Area|FBI Code|X Coordinate|Y Coordinate|Year|          Updated On|    Latitude|    Longitude|            Location|\n",
      "+--------+-----------+--------------------+--------------------+----+--------------------+--------------------+--------------------+------+--------+----+--------+----+--------------+--------+------------+------------+----+--------------------+------------+-------------+--------------------+\n",
      "|12045583|   JD226426|05/07/2020 10:24:...| 035XX S INDIANA AVE|0820|               THEFT|      $500 AND UNDER|           APARTMENT| false|   false| 212|       2|   3|            35|      06|     1178180|     1881621|2020|05/14/2020 08:47:...|41.830481843|-87.621751752|(41.830481843, -8...|\n",
      "|12031001|   JD209965|04/16/2020 05:00:...|     005XX W 32ND ST|0460|             BATTERY|              SIMPLE|           APARTMENT|  true|   false| 915|       9|  11|            60|     08B|     1173292|     1883705|2020|04/23/2020 03:45:...|41.836310224|-87.639624112|(41.836310224, -8...|\n",
      "|12093529|   JD282112|07/01/2020 10:16:...|   081XX S COLES AVE|051A|             ASSAULT|AGGRAVATED - HANDGUN|              STREET|  true|   false| 422|       4|   7|            46|     04A|     1198234|     1851595|2020|07/08/2020 03:41:...|41.747609555|-87.549179329|(41.747609555, -8...|\n",
      "|12178140|   JD381597|09/27/2020 11:29:...| 065XX S WOLCOTT AVE|0460|             BATTERY|              SIMPLE|RESIDENCE - PORCH...| false|   false| 726|       7|  15|            67|     08B|     1164812|     1861251|2020|10/04/2020 03:43:...| 41.77487752|-87.671374872|(41.77487752, -87...|\n",
      "| 4144897|   HL474854|07/10/2005 03:00:...| 062XX S ABERDEEN ST|0430|             BATTERY|AGGRAVATED: OTHER...|              STREET| false|   false| 712|       7|  16|            68|     04B|     1170050|     1863524|2005|02/28/2018 03:56:...|41.781002663|-87.652107119|(41.781002663, -8...|\n",
      "|12126129|   JD321064|08/04/2020 08:28:...| 081XX S LOOMIS BLVD|143A|   WEAPONS VIOLATION|UNLAWFUL POSSESSI...|              STREET|  true|   false| 613|       6|  21|            71|      15|     1168412|     1850836|2020|08/11/2020 03:42:...|41.746220584|-87.658477307|(41.746220584, -8...|\n",
      "|12010314|   JD186932|03/15/2020 09:00:...|    051XX W HURON ST|2820|       OTHER OFFENSE|    TELEPHONE THREAT|           APARTMENT| false|   false|1531|      15|  37|            25|     08A|     1141763|     1904131|2020|03/22/2020 03:41:...|41.893002363|-87.754811709|(41.893002363, -8...|\n",
      "|12067286|   JD251718|06/02/2020 10:00:...| 042XX S EMERALD AVE|0820|               THEFT|      $500 AND UNDER|              STREET|  true|   false| 925|       9|  11|            61|      06|     1172009|     1876708|2020|06/09/2020 03:43:...|41.817138145|-87.644537728|(41.817138145, -8...|\n",
      "| 4229528|   HL545852|08/12/2005 11:00:...|063XX S COTTAGE G...|3730|INTERFERENCE WITH...| OBSTRUCTING JUSTICE|            SIDEWALK|  true|   false| 312|       3|  20|            42|      24|     1182654|     1863077|2005|02/28/2018 03:56:...|41.779492755|-87.605912536|(41.779492755, -8...|\n",
      "|12163191|   JD364357|09/11/2020 10:44:...|008XX N TRUMBULL AVE|0486|             BATTERY|DOMESTIC BATTERY ...|           RESIDENCE|  true|    true|1121|      11|  27|            23|     08B|     1153223|     1905475|2020|09/07/2021 03:41:...|41.896470682|-87.712687444|(41.896470682, -8...|\n",
      "|12142075|   JD339709|08/21/2020 12:00:...|015XX N MILWAUKEE...|0420|             BATTERY|AGGRAVATED - KNIF...|            SIDEWALK| false|   false|1424|      14|   1|            24|     04B|     1163078|     1910357|2020|08/28/2020 03:42:...| 41.90966592|-87.676354472|(41.90966592, -87...|\n",
      "|12005594|   JD181480|03/11/2020 12:00:...|     040XX W 26TH ST|0860|               THEFT|        RETAIL THEFT|  SMALL RETAIL STORE| false|   false|1031|      10|  22|            30|      06|     1150021|     1886423|2020|03/18/2020 03:41:...|41.844252757|-87.724943845|(41.844252757, -8...|\n",
      "|12070567|   JD249245|06/01/2020 01:20:...|024XX N MILWAUKEE...|0620|            BURGLARY|      UNLAWFUL ENTRY|  SMALL RETAIL STORE| false|   false|1414|      14|   1|            22|      05|     1156086|     1916141|2020|07/06/2020 03:40:...|41.925681769|-87.701883719|(41.925681769, -8...|\n",
      "|12057551|   JD240361|05/23/2020 12:20:...| 068XX S LOOMIS BLVD|0486|             BATTERY|DOMESTIC BATTERY ...|              STREET| false|    true| 724|       7|  17|            67|     08B|     1168179|     1859299|2020|09/07/2021 03:41:...|41.769449202|-87.659088027|(41.769449202, -8...|\n",
      "|12057185|   JD239952|05/22/2020 10:29:...|   0000X N LOREL AVE|2024|           NARCOTICS|POSSESS - HEROIN ...|              STREET|  true|   false|1522|      15|  28|            25|      18|     1140721|     1899686|2020|05/29/2020 03:41:...|41.880823946|-87.758747941|(41.880823946, -8...|\n",
      "|12107263|   JD298884|07/15/2020 10:15:...| 070XX S CHAPPEL AVE|0560|             ASSAULT|              SIMPLE|           APARTMENT| false|    true| 331|       3|   5|            43|     08A|     1191099|     1858560|2020|07/22/2020 03:42:...|41.766897557|-87.575098672|(41.766897557, -8...|\n",
      "|12178347|   JD382022|09/28/2020 10:23:...|038XX W JACKSON BLVD|2820|       OTHER OFFENSE|    TELEPHONE THREAT|     OTHER (SPECIFY)| false|   false|1133|      11|  28|            26|     08A|     1150770|     1898411|2020|10/05/2020 03:40:...|41.877134658|-87.721881801|(41.877134658, -8...|\n",
      "|12164381|   JD361415|09/09/2020 09:23:...|  081XX S VERNON AVE|0560|             ASSAULT|              SIMPLE|           RESIDENCE| false|   false| 631|       6|   6|            44|     08A|     1180660|     1851072|2020|09/16/2020 03:41:...|41.746595831|-87.613590958|(41.746595831, -8...|\n",
      "|12072697|   JD257284|06/06/2020 07:45:...|065XX S UNIVERSIT...|2820|       OTHER OFFENSE|    TELEPHONE THREAT|     OTHER (SPECIFY)| false|   false| 321|       3|   5|            42|     08A|     1184679|     1861785|2020|06/13/2020 03:42:...|41.775900146|-87.598529213|(41.775900146, -8...|\n",
      "|12126191|   JD321188|08/05/2020 01:00:...|025XX S MICHIGAN AVE|0454|             BATTERY|AGGRAVATED P.O. -...|HOSPITAL BUILDING...|  true|   false| 133|       1|   4|            33|     08B|     1177647|     1887564|2020|08/12/2020 03:41:...|41.846801978|-87.623527134|(41.846801978, -8...|\n",
      "+--------+-----------+--------------------+--------------------+----+--------------------+--------------------+--------------------+------+--------+----+--------+----+--------------+--------+------------+------------+----+--------------------+------------+-------------+--------------------+\n",
      "only showing top 20 rows\n",
      "\n"
     ]
    }
   ],
   "source": [
    "#Remove all null values.\n",
    "from pyspark.sql.functions import col\n",
    "df = df.na.drop()\n",
    "df.show()"
   ]
  },
  {
   "cell_type": "code",
   "execution_count": 177,
   "id": "e3b7bb93",
   "metadata": {},
   "outputs": [
    {
     "name": "stderr",
     "output_type": "stream",
     "text": [
      "                                                                                \r"
     ]
    },
    {
     "data": {
      "text/plain": [
       "7214526"
      ]
     },
     "execution_count": 177,
     "metadata": {},
     "output_type": "execute_result"
    }
   ],
   "source": [
    "df.count()"
   ]
  },
  {
   "cell_type": "markdown",
   "id": "05345d9c",
   "metadata": {},
   "source": [
    "Changing date column data type"
   ]
  },
  {
   "cell_type": "code",
   "execution_count": 178,
   "id": "73817e99",
   "metadata": {},
   "outputs": [
    {
     "name": "stdout",
     "output_type": "stream",
     "text": [
      "root\n",
      " |-- ID: integer (nullable = true)\n",
      " |-- Case Number: string (nullable = true)\n",
      " |-- Date: timestamp (nullable = true)\n",
      " |-- Block: string (nullable = true)\n",
      " |-- IUCR: string (nullable = true)\n",
      " |-- Primary Type: string (nullable = true)\n",
      " |-- Description: string (nullable = true)\n",
      " |-- Location Description: string (nullable = true)\n",
      " |-- Arrest: boolean (nullable = true)\n",
      " |-- Domestic: boolean (nullable = true)\n",
      " |-- Beat: integer (nullable = true)\n",
      " |-- District: integer (nullable = true)\n",
      " |-- Ward: integer (nullable = true)\n",
      " |-- Community Area: integer (nullable = true)\n",
      " |-- FBI Code: string (nullable = true)\n",
      " |-- X Coordinate: integer (nullable = true)\n",
      " |-- Y Coordinate: integer (nullable = true)\n",
      " |-- Year: integer (nullable = true)\n",
      " |-- Updated On: string (nullable = true)\n",
      " |-- Latitude: double (nullable = true)\n",
      " |-- Longitude: double (nullable = true)\n",
      " |-- Location: string (nullable = true)\n",
      "\n"
     ]
    }
   ],
   "source": [
    "from pyspark.sql.functions import to_timestamp\n",
    "\n",
    "# Change 'Date' column data type\n",
    "df = df.withColumn(\"Date\", to_timestamp(\"Date\", \"MM/dd/yyyy hh:mm:ss a\"))\n",
    "df.printSchema()"
   ]
  },
  {
   "cell_type": "code",
   "execution_count": 179,
   "id": "92d3abcd",
   "metadata": {},
   "outputs": [
    {
     "data": {
      "text/plain": [
       "DataFrame[Date: timestamp]"
      ]
     },
     "execution_count": 179,
     "metadata": {},
     "output_type": "execute_result"
    }
   ],
   "source": [
    "df.select('Date')"
   ]
  },
  {
   "cell_type": "markdown",
   "id": "d41be2fe",
   "metadata": {},
   "source": [
    "# Filtering Data for last 10 years"
   ]
  },
  {
   "cell_type": "code",
   "execution_count": 180,
   "id": "7947cd0e",
   "metadata": {},
   "outputs": [
    {
     "name": "stdout",
     "output_type": "stream",
     "text": [
      "+--------+-----------+-------------------+--------------------+----+-----------------+--------------------+--------------------+------+--------+----+--------+----+--------------+--------+------------+------------+----+--------------------+------------+-------------+--------------------+\n",
      "|      ID|Case Number|               Date|               Block|IUCR|     Primary Type|         Description|Location Description|Arrest|Domestic|Beat|District|Ward|Community Area|FBI Code|X Coordinate|Y Coordinate|Year|          Updated On|    Latitude|    Longitude|            Location|\n",
      "+--------+-----------+-------------------+--------------------+----+-----------------+--------------------+--------------------+------+--------+----+--------+----+--------------+--------+------------+------------+----+--------------------+------------+-------------+--------------------+\n",
      "|12045583|   JD226426|2020-05-07 10:24:00| 035XX S INDIANA AVE|0820|            THEFT|      $500 AND UNDER|           APARTMENT| false|   false| 212|       2|   3|            35|      06|     1178180|     1881621|2020|05/14/2020 08:47:...|41.830481843|-87.621751752|(41.830481843, -8...|\n",
      "|12031001|   JD209965|2020-04-16 05:00:00|     005XX W 32ND ST|0460|          BATTERY|              SIMPLE|           APARTMENT|  true|   false| 915|       9|  11|            60|     08B|     1173292|     1883705|2020|04/23/2020 03:45:...|41.836310224|-87.639624112|(41.836310224, -8...|\n",
      "|12093529|   JD282112|2020-07-01 10:16:00|   081XX S COLES AVE|051A|          ASSAULT|AGGRAVATED - HANDGUN|              STREET|  true|   false| 422|       4|   7|            46|     04A|     1198234|     1851595|2020|07/08/2020 03:41:...|41.747609555|-87.549179329|(41.747609555, -8...|\n",
      "|12178140|   JD381597|2020-09-27 23:29:00| 065XX S WOLCOTT AVE|0460|          BATTERY|              SIMPLE|RESIDENCE - PORCH...| false|   false| 726|       7|  15|            67|     08B|     1164812|     1861251|2020|10/04/2020 03:43:...| 41.77487752|-87.671374872|(41.77487752, -87...|\n",
      "|12126129|   JD321064|2020-08-04 20:28:00| 081XX S LOOMIS BLVD|143A|WEAPONS VIOLATION|UNLAWFUL POSSESSI...|              STREET|  true|   false| 613|       6|  21|            71|      15|     1168412|     1850836|2020|08/11/2020 03:42:...|41.746220584|-87.658477307|(41.746220584, -8...|\n",
      "|12010314|   JD186932|2020-03-15 21:00:00|    051XX W HURON ST|2820|    OTHER OFFENSE|    TELEPHONE THREAT|           APARTMENT| false|   false|1531|      15|  37|            25|     08A|     1141763|     1904131|2020|03/22/2020 03:41:...|41.893002363|-87.754811709|(41.893002363, -8...|\n",
      "|12067286|   JD251718|2020-06-02 22:00:00| 042XX S EMERALD AVE|0820|            THEFT|      $500 AND UNDER|              STREET|  true|   false| 925|       9|  11|            61|      06|     1172009|     1876708|2020|06/09/2020 03:43:...|41.817138145|-87.644537728|(41.817138145, -8...|\n",
      "|12163191|   JD364357|2020-09-11 22:44:00|008XX N TRUMBULL AVE|0486|          BATTERY|DOMESTIC BATTERY ...|           RESIDENCE|  true|    true|1121|      11|  27|            23|     08B|     1153223|     1905475|2020|09/07/2021 03:41:...|41.896470682|-87.712687444|(41.896470682, -8...|\n",
      "|12142075|   JD339709|2020-08-21 00:00:00|015XX N MILWAUKEE...|0420|          BATTERY|AGGRAVATED - KNIF...|            SIDEWALK| false|   false|1424|      14|   1|            24|     04B|     1163078|     1910357|2020|08/28/2020 03:42:...| 41.90966592|-87.676354472|(41.90966592, -87...|\n",
      "|12005594|   JD181480|2020-03-11 00:00:00|     040XX W 26TH ST|0860|            THEFT|        RETAIL THEFT|  SMALL RETAIL STORE| false|   false|1031|      10|  22|            30|      06|     1150021|     1886423|2020|03/18/2020 03:41:...|41.844252757|-87.724943845|(41.844252757, -8...|\n",
      "|12070567|   JD249245|2020-06-01 01:20:00|024XX N MILWAUKEE...|0620|         BURGLARY|      UNLAWFUL ENTRY|  SMALL RETAIL STORE| false|   false|1414|      14|   1|            22|      05|     1156086|     1916141|2020|07/06/2020 03:40:...|41.925681769|-87.701883719|(41.925681769, -8...|\n",
      "|12057551|   JD240361|2020-05-23 12:20:00| 068XX S LOOMIS BLVD|0486|          BATTERY|DOMESTIC BATTERY ...|              STREET| false|    true| 724|       7|  17|            67|     08B|     1168179|     1859299|2020|09/07/2021 03:41:...|41.769449202|-87.659088027|(41.769449202, -8...|\n",
      "|12057185|   JD239952|2020-05-22 22:29:00|   0000X N LOREL AVE|2024|        NARCOTICS|POSSESS - HEROIN ...|              STREET|  true|   false|1522|      15|  28|            25|      18|     1140721|     1899686|2020|05/29/2020 03:41:...|41.880823946|-87.758747941|(41.880823946, -8...|\n",
      "|12107263|   JD298884|2020-07-15 22:15:00| 070XX S CHAPPEL AVE|0560|          ASSAULT|              SIMPLE|           APARTMENT| false|    true| 331|       3|   5|            43|     08A|     1191099|     1858560|2020|07/22/2020 03:42:...|41.766897557|-87.575098672|(41.766897557, -8...|\n",
      "|12178347|   JD382022|2020-09-28 10:23:00|038XX W JACKSON BLVD|2820|    OTHER OFFENSE|    TELEPHONE THREAT|     OTHER (SPECIFY)| false|   false|1133|      11|  28|            26|     08A|     1150770|     1898411|2020|10/05/2020 03:40:...|41.877134658|-87.721881801|(41.877134658, -8...|\n",
      "|12164381|   JD361415|2020-09-09 09:23:00|  081XX S VERNON AVE|0560|          ASSAULT|              SIMPLE|           RESIDENCE| false|   false| 631|       6|   6|            44|     08A|     1180660|     1851072|2020|09/16/2020 03:41:...|41.746595831|-87.613590958|(41.746595831, -8...|\n",
      "|12072697|   JD257284|2020-06-06 07:45:00|065XX S UNIVERSIT...|2820|    OTHER OFFENSE|    TELEPHONE THREAT|     OTHER (SPECIFY)| false|   false| 321|       3|   5|            42|     08A|     1184679|     1861785|2020|06/13/2020 03:42:...|41.775900146|-87.598529213|(41.775900146, -8...|\n",
      "|12126191|   JD321188|2020-08-05 01:00:00|025XX S MICHIGAN AVE|0454|          BATTERY|AGGRAVATED P.O. -...|HOSPITAL BUILDING...|  true|   false| 133|       1|   4|            33|     08B|     1177647|     1887564|2020|08/12/2020 03:41:...|41.846801978|-87.623527134|(41.846801978, -8...|\n",
      "|12018869|   JD196508|2020-03-27 23:20:00|066XX S SPAULDING...|141A|WEAPONS VIOLATION|UNLAWFUL USE - HA...|              STREET| false|   false| 831|       8|  15|            66|      15|     1155539|     1860219|2020|04/03/2020 03:58:...|41.772236394|-87.705396225|(41.772236394, -8...|\n",
      "|12068919|   JD253635|2020-06-04 14:15:00| 010XX W DIVISION ST|2820|    OTHER OFFENSE|    TELEPHONE THREAT|     OTHER (SPECIFY)| false|   false|1822|      18|  27|             8|     08A|     1169314|     1908181|2020|06/11/2020 03:42:...|41.903561493|-87.653509519|(41.903561493, -8...|\n",
      "+--------+-----------+-------------------+--------------------+----+-----------------+--------------------+--------------------+------+--------+----+--------+----+--------------+--------+------------+------------+----+--------------------+------------+-------------+--------------------+\n",
      "only showing top 20 rows\n",
      "\n"
     ]
    }
   ],
   "source": [
    "from pyspark.sql.functions import col\n",
    "df = df.where(col(\"Year\") >= 2013)\n",
    "df.show()"
   ]
  },
  {
   "cell_type": "code",
   "execution_count": 181,
   "id": "4ffd6e20",
   "metadata": {},
   "outputs": [
    {
     "name": "stderr",
     "output_type": "stream",
     "text": [
      "                                                                                \r"
     ]
    },
    {
     "data": {
      "text/plain": [
       "2734339"
      ]
     },
     "execution_count": 181,
     "metadata": {},
     "output_type": "execute_result"
    }
   ],
   "source": [
    "df.count()"
   ]
  },
  {
   "cell_type": "markdown",
   "id": "0cf1f1f2",
   "metadata": {},
   "source": [
    "## 6. Remove all the records with the following crime types:\n",
    "'NON-CRIMINAL (SUBJECT SPECIFIED)'<br>\n",
    "'OTHER OFFENSE'<br>\n",
    "'STALKING'<br>\n",
    "'NON - CRIMINAL'<br>\n",
    "'ARSON'"
   ]
  },
  {
   "cell_type": "code",
   "execution_count": 182,
   "id": "cc12e68e",
   "metadata": {},
   "outputs": [],
   "source": [
    "# Remove all the records with the following crime types\n",
    "df = df.filter(col(\"Primary Type\").isin([\n",
    "    \"NON-CRIMINAL (SUBJECT SPECIFIED)\",\n",
    "    \"OTHER OFFENSE\",\n",
    "    \"STALKING\",\n",
    "    \"NON - CRIMINAL\",\n",
    "    \"ARSON\"\n",
    "]) == False)"
   ]
  },
  {
   "cell_type": "code",
   "execution_count": 183,
   "id": "638d5659",
   "metadata": {},
   "outputs": [
    {
     "name": "stdout",
     "output_type": "stream",
     "text": [
      "+--------+-----------+-------------------+--------------------+----+-------------------+--------------------+--------------------+------+--------+----+--------+----+--------------+--------+------------+------------+----+--------------------+------------+-------------+--------------------+\n",
      "|      ID|Case Number|               Date|               Block|IUCR|       Primary Type|         Description|Location Description|Arrest|Domestic|Beat|District|Ward|Community Area|FBI Code|X Coordinate|Y Coordinate|Year|          Updated On|    Latitude|    Longitude|            Location|\n",
      "+--------+-----------+-------------------+--------------------+----+-------------------+--------------------+--------------------+------+--------+----+--------+----+--------------+--------+------------+------------+----+--------------------+------------+-------------+--------------------+\n",
      "|12045583|   JD226426|2020-05-07 10:24:00| 035XX S INDIANA AVE|0820|              THEFT|      $500 AND UNDER|           APARTMENT| false|   false| 212|       2|   3|            35|      06|     1178180|     1881621|2020|05/14/2020 08:47:...|41.830481843|-87.621751752|(41.830481843, -8...|\n",
      "|12031001|   JD209965|2020-04-16 05:00:00|     005XX W 32ND ST|0460|            BATTERY|              SIMPLE|           APARTMENT|  true|   false| 915|       9|  11|            60|     08B|     1173292|     1883705|2020|04/23/2020 03:45:...|41.836310224|-87.639624112|(41.836310224, -8...|\n",
      "|12093529|   JD282112|2020-07-01 10:16:00|   081XX S COLES AVE|051A|            ASSAULT|AGGRAVATED - HANDGUN|              STREET|  true|   false| 422|       4|   7|            46|     04A|     1198234|     1851595|2020|07/08/2020 03:41:...|41.747609555|-87.549179329|(41.747609555, -8...|\n",
      "|12178140|   JD381597|2020-09-27 23:29:00| 065XX S WOLCOTT AVE|0460|            BATTERY|              SIMPLE|RESIDENCE - PORCH...| false|   false| 726|       7|  15|            67|     08B|     1164812|     1861251|2020|10/04/2020 03:43:...| 41.77487752|-87.671374872|(41.77487752, -87...|\n",
      "|12126129|   JD321064|2020-08-04 20:28:00| 081XX S LOOMIS BLVD|143A|  WEAPONS VIOLATION|UNLAWFUL POSSESSI...|              STREET|  true|   false| 613|       6|  21|            71|      15|     1168412|     1850836|2020|08/11/2020 03:42:...|41.746220584|-87.658477307|(41.746220584, -8...|\n",
      "|12067286|   JD251718|2020-06-02 22:00:00| 042XX S EMERALD AVE|0820|              THEFT|      $500 AND UNDER|              STREET|  true|   false| 925|       9|  11|            61|      06|     1172009|     1876708|2020|06/09/2020 03:43:...|41.817138145|-87.644537728|(41.817138145, -8...|\n",
      "|12163191|   JD364357|2020-09-11 22:44:00|008XX N TRUMBULL AVE|0486|            BATTERY|DOMESTIC BATTERY ...|           RESIDENCE|  true|    true|1121|      11|  27|            23|     08B|     1153223|     1905475|2020|09/07/2021 03:41:...|41.896470682|-87.712687444|(41.896470682, -8...|\n",
      "|12142075|   JD339709|2020-08-21 00:00:00|015XX N MILWAUKEE...|0420|            BATTERY|AGGRAVATED - KNIF...|            SIDEWALK| false|   false|1424|      14|   1|            24|     04B|     1163078|     1910357|2020|08/28/2020 03:42:...| 41.90966592|-87.676354472|(41.90966592, -87...|\n",
      "|12005594|   JD181480|2020-03-11 00:00:00|     040XX W 26TH ST|0860|              THEFT|        RETAIL THEFT|  SMALL RETAIL STORE| false|   false|1031|      10|  22|            30|      06|     1150021|     1886423|2020|03/18/2020 03:41:...|41.844252757|-87.724943845|(41.844252757, -8...|\n",
      "|12070567|   JD249245|2020-06-01 01:20:00|024XX N MILWAUKEE...|0620|           BURGLARY|      UNLAWFUL ENTRY|  SMALL RETAIL STORE| false|   false|1414|      14|   1|            22|      05|     1156086|     1916141|2020|07/06/2020 03:40:...|41.925681769|-87.701883719|(41.925681769, -8...|\n",
      "|12057551|   JD240361|2020-05-23 12:20:00| 068XX S LOOMIS BLVD|0486|            BATTERY|DOMESTIC BATTERY ...|              STREET| false|    true| 724|       7|  17|            67|     08B|     1168179|     1859299|2020|09/07/2021 03:41:...|41.769449202|-87.659088027|(41.769449202, -8...|\n",
      "|12057185|   JD239952|2020-05-22 22:29:00|   0000X N LOREL AVE|2024|          NARCOTICS|POSSESS - HEROIN ...|              STREET|  true|   false|1522|      15|  28|            25|      18|     1140721|     1899686|2020|05/29/2020 03:41:...|41.880823946|-87.758747941|(41.880823946, -8...|\n",
      "|12107263|   JD298884|2020-07-15 22:15:00| 070XX S CHAPPEL AVE|0560|            ASSAULT|              SIMPLE|           APARTMENT| false|    true| 331|       3|   5|            43|     08A|     1191099|     1858560|2020|07/22/2020 03:42:...|41.766897557|-87.575098672|(41.766897557, -8...|\n",
      "|12164381|   JD361415|2020-09-09 09:23:00|  081XX S VERNON AVE|0560|            ASSAULT|              SIMPLE|           RESIDENCE| false|   false| 631|       6|   6|            44|     08A|     1180660|     1851072|2020|09/16/2020 03:41:...|41.746595831|-87.613590958|(41.746595831, -8...|\n",
      "|12126191|   JD321188|2020-08-05 01:00:00|025XX S MICHIGAN AVE|0454|            BATTERY|AGGRAVATED P.O. -...|HOSPITAL BUILDING...|  true|   false| 133|       1|   4|            33|     08B|     1177647|     1887564|2020|08/12/2020 03:41:...|41.846801978|-87.623527134|(41.846801978, -8...|\n",
      "|12018869|   JD196508|2020-03-27 23:20:00|066XX S SPAULDING...|141A|  WEAPONS VIOLATION|UNLAWFUL USE - HA...|              STREET| false|   false| 831|       8|  15|            66|      15|     1155539|     1860219|2020|04/03/2020 03:58:...|41.772236394|-87.705396225|(41.772236394, -8...|\n",
      "|12044629|   JD225380|2020-05-05 22:00:00|   079XX S THROOP ST|0810|              THEFT|           OVER $500|              STREET| false|   false| 612|       6|  21|            71|      06|     1169042|     1851982|2020|05/12/2020 03:42:...|41.749351783|-87.656135797|(41.749351783, -8...|\n",
      "|12157580|   JD357987|2020-09-05 23:50:00| 022XX W MAYPOLE AVE|0486|            BATTERY|DOMESTIC BATTERY ...|       CHA APARTMENT| false|    true|1223|      12|  27|            28|     08B|     1161251|     1900967|2020|09/12/2020 03:41:...|41.883937205|-87.683327432|(41.883937205, -8...|\n",
      "|12045468|   JD225478|2020-05-05 22:00:00|    104XX S AVENUE M|0910|MOTOR VEHICLE THEFT|          AUTOMOBILE|DRIVEWAY - RESIDE...| false|   false| 432|       4|  10|            52|      07|     1201505|     1836426|2020|05/12/2020 03:42:...|41.705902269|-87.537707456|(41.705902269, -8...|\n",
      "|12132877|   JD329246|2020-08-12 02:20:00|102XX S DR MARTIN...|1310|    CRIMINAL DAMAGE|         TO PROPERTY|           RESIDENCE| false|   false| 511|       5|   9|            49|      14|     1180720|     1837168|2020|08/19/2020 03:51:...|41.708440181|-87.613796977|(41.708440181, -8...|\n",
      "+--------+-----------+-------------------+--------------------+----+-------------------+--------------------+--------------------+------+--------+----+--------+----+--------------+--------+------------+------------+----+--------------------+------------+-------------+--------------------+\n",
      "only showing top 20 rows\n",
      "\n"
     ]
    }
   ],
   "source": [
    "df.show()"
   ]
  },
  {
   "cell_type": "markdown",
   "id": "1240e86f",
   "metadata": {},
   "source": [
    "Merge similar crime types"
   ]
  },
  {
   "cell_type": "code",
   "execution_count": 192,
   "id": "8c4524e8",
   "metadata": {},
   "outputs": [],
   "source": [
    "# Creating a function to merge similar crime types\n",
    "def map_CrimeType(input_df):\n",
    "    input_df = input_df.withColumn(\"Primary Type\", \n",
    "        when(input_df[\"Primary Type\"].isin('CRIMINAL SEXUAL ASSAULT', 'SEXUAL ASSAULT','CRIM SEXUAL ASSAULT'),'SEX ASSAULT')\n",
    "        .when(input_df[\"Primary Type\"] == 'BATTERY', 'ASSAULT')\n",
    "        .when(input_df[\"Primary Type\"] == 'CRIMINAL DAMAGE', 'PROPERTY DAMAGE')\n",
    "        .when(input_df[\"Primary Type\"] == 'HOMICIDE', 'MURDER')\n",
    "        .when(input_df[\"Primary Type\"].isin('SEX OFFENSE', 'PROSTITUTION'), 'SEX OFFENSE')\n",
    "        .when(input_df[\"Primary Type\"].isin('CRIMINAL TRESPASS', 'ROBBERY', 'THEFT', 'BURGLARY','MOTOR VEHICLE THEFT'), 'ROBBERY/TRESPASS/THEFT/BURGLARY')\n",
    "        .when(input_df[\"Primary Type\"] == 'INTERFERENCE WITH PUBLIC OFFICER', 'PUBLIC PEACE INTERFERENCE')\n",
    "        .when(input_df[\"Primary Type\"].isin('OTHER NARCOTIC VIOLATION','NARCOTIC','NARCOTICS'),'NARCOTICS')\n",
    "        .when(input_df[\"Primary Type\"].isin('LIQUOR LAW VIOLATION', 'RITUALISM', 'GAMBLING'), 'RITUALISM/GAMBLING/LAW VIOLATION')\n",
    "        .when(input_df[\"Primary Type\"] == 'PUBLIC INDECENCY', 'INDECENCY')\n",
    "        \n",
    "        .when(input_df[\"Primary Type\"] == 'WEAPONS VIOLATION', 'WEAPONS')\n",
    "        .otherwise(input_df['Primary Type']))\n",
    "    return input_df\n",
    "\n",
    "# Applying the function to your DataFrame\n",
    "df = map_CrimeType(df)\n"
   ]
  },
  {
   "cell_type": "code",
   "execution_count": 193,
   "id": "97f8b449",
   "metadata": {},
   "outputs": [
    {
     "name": "stdout",
     "output_type": "stream",
     "text": [
      "+--------+-----------+-------------------+--------------------+----+--------------------+--------------------+--------------------+------+--------+----+--------+----+--------------+--------+------------+------------+----+--------------------+------------+-------------+--------------------+\n",
      "|      ID|Case Number|               Date|               Block|IUCR|        Primary Type|         Description|Location Description|Arrest|Domestic|Beat|District|Ward|Community Area|FBI Code|X Coordinate|Y Coordinate|Year|          Updated On|    Latitude|    Longitude|            Location|\n",
      "+--------+-----------+-------------------+--------------------+----+--------------------+--------------------+--------------------+------+--------+----+--------+----+--------------+--------+------------+------------+----+--------------------+------------+-------------+--------------------+\n",
      "|12045583|   JD226426|2020-05-07 10:24:00| 035XX S INDIANA AVE|0820|ROBBERY/TRESPASS/...|      $500 AND UNDER|           APARTMENT| false|   false| 212|       2|   3|            35|      06|     1178180|     1881621|2020|05/14/2020 08:47:...|41.830481843|-87.621751752|(41.830481843, -8...|\n",
      "|12031001|   JD209965|2020-04-16 05:00:00|     005XX W 32ND ST|0460|             ASSAULT|              SIMPLE|           APARTMENT|  true|   false| 915|       9|  11|            60|     08B|     1173292|     1883705|2020|04/23/2020 03:45:...|41.836310224|-87.639624112|(41.836310224, -8...|\n",
      "|12093529|   JD282112|2020-07-01 10:16:00|   081XX S COLES AVE|051A|             ASSAULT|AGGRAVATED - HANDGUN|              STREET|  true|   false| 422|       4|   7|            46|     04A|     1198234|     1851595|2020|07/08/2020 03:41:...|41.747609555|-87.549179329|(41.747609555, -8...|\n",
      "|12178140|   JD381597|2020-09-27 23:29:00| 065XX S WOLCOTT AVE|0460|             ASSAULT|              SIMPLE|RESIDENCE - PORCH...| false|   false| 726|       7|  15|            67|     08B|     1164812|     1861251|2020|10/04/2020 03:43:...| 41.77487752|-87.671374872|(41.77487752, -87...|\n",
      "|12126129|   JD321064|2020-08-04 20:28:00| 081XX S LOOMIS BLVD|143A|             WEAPONS|UNLAWFUL POSSESSI...|              STREET|  true|   false| 613|       6|  21|            71|      15|     1168412|     1850836|2020|08/11/2020 03:42:...|41.746220584|-87.658477307|(41.746220584, -8...|\n",
      "|12067286|   JD251718|2020-06-02 22:00:00| 042XX S EMERALD AVE|0820|ROBBERY/TRESPASS/...|      $500 AND UNDER|              STREET|  true|   false| 925|       9|  11|            61|      06|     1172009|     1876708|2020|06/09/2020 03:43:...|41.817138145|-87.644537728|(41.817138145, -8...|\n",
      "|12163191|   JD364357|2020-09-11 22:44:00|008XX N TRUMBULL AVE|0486|             ASSAULT|DOMESTIC BATTERY ...|           RESIDENCE|  true|    true|1121|      11|  27|            23|     08B|     1153223|     1905475|2020|09/07/2021 03:41:...|41.896470682|-87.712687444|(41.896470682, -8...|\n",
      "|12142075|   JD339709|2020-08-21 00:00:00|015XX N MILWAUKEE...|0420|             ASSAULT|AGGRAVATED - KNIF...|            SIDEWALK| false|   false|1424|      14|   1|            24|     04B|     1163078|     1910357|2020|08/28/2020 03:42:...| 41.90966592|-87.676354472|(41.90966592, -87...|\n",
      "|12005594|   JD181480|2020-03-11 00:00:00|     040XX W 26TH ST|0860|ROBBERY/TRESPASS/...|        RETAIL THEFT|  SMALL RETAIL STORE| false|   false|1031|      10|  22|            30|      06|     1150021|     1886423|2020|03/18/2020 03:41:...|41.844252757|-87.724943845|(41.844252757, -8...|\n",
      "|12070567|   JD249245|2020-06-01 01:20:00|024XX N MILWAUKEE...|0620|ROBBERY/TRESPASS/...|      UNLAWFUL ENTRY|  SMALL RETAIL STORE| false|   false|1414|      14|   1|            22|      05|     1156086|     1916141|2020|07/06/2020 03:40:...|41.925681769|-87.701883719|(41.925681769, -8...|\n",
      "|12057551|   JD240361|2020-05-23 12:20:00| 068XX S LOOMIS BLVD|0486|             ASSAULT|DOMESTIC BATTERY ...|              STREET| false|    true| 724|       7|  17|            67|     08B|     1168179|     1859299|2020|09/07/2021 03:41:...|41.769449202|-87.659088027|(41.769449202, -8...|\n",
      "|12057185|   JD239952|2020-05-22 22:29:00|   0000X N LOREL AVE|2024|           NARCOTICS|POSSESS - HEROIN ...|              STREET|  true|   false|1522|      15|  28|            25|      18|     1140721|     1899686|2020|05/29/2020 03:41:...|41.880823946|-87.758747941|(41.880823946, -8...|\n",
      "|12107263|   JD298884|2020-07-15 22:15:00| 070XX S CHAPPEL AVE|0560|             ASSAULT|              SIMPLE|           APARTMENT| false|    true| 331|       3|   5|            43|     08A|     1191099|     1858560|2020|07/22/2020 03:42:...|41.766897557|-87.575098672|(41.766897557, -8...|\n",
      "|12164381|   JD361415|2020-09-09 09:23:00|  081XX S VERNON AVE|0560|             ASSAULT|              SIMPLE|           RESIDENCE| false|   false| 631|       6|   6|            44|     08A|     1180660|     1851072|2020|09/16/2020 03:41:...|41.746595831|-87.613590958|(41.746595831, -8...|\n",
      "|12126191|   JD321188|2020-08-05 01:00:00|025XX S MICHIGAN AVE|0454|             ASSAULT|AGGRAVATED P.O. -...|HOSPITAL BUILDING...|  true|   false| 133|       1|   4|            33|     08B|     1177647|     1887564|2020|08/12/2020 03:41:...|41.846801978|-87.623527134|(41.846801978, -8...|\n",
      "|12018869|   JD196508|2020-03-27 23:20:00|066XX S SPAULDING...|141A|             WEAPONS|UNLAWFUL USE - HA...|              STREET| false|   false| 831|       8|  15|            66|      15|     1155539|     1860219|2020|04/03/2020 03:58:...|41.772236394|-87.705396225|(41.772236394, -8...|\n",
      "|12044629|   JD225380|2020-05-05 22:00:00|   079XX S THROOP ST|0810|ROBBERY/TRESPASS/...|           OVER $500|              STREET| false|   false| 612|       6|  21|            71|      06|     1169042|     1851982|2020|05/12/2020 03:42:...|41.749351783|-87.656135797|(41.749351783, -8...|\n",
      "|12157580|   JD357987|2020-09-05 23:50:00| 022XX W MAYPOLE AVE|0486|             ASSAULT|DOMESTIC BATTERY ...|       CHA APARTMENT| false|    true|1223|      12|  27|            28|     08B|     1161251|     1900967|2020|09/12/2020 03:41:...|41.883937205|-87.683327432|(41.883937205, -8...|\n",
      "|12045468|   JD225478|2020-05-05 22:00:00|    104XX S AVENUE M|0910|ROBBERY/TRESPASS/...|          AUTOMOBILE|DRIVEWAY - RESIDE...| false|   false| 432|       4|  10|            52|      07|     1201505|     1836426|2020|05/12/2020 03:42:...|41.705902269|-87.537707456|(41.705902269, -8...|\n",
      "|12132877|   JD329246|2020-08-12 02:20:00|102XX S DR MARTIN...|1310|     PROPERTY DAMAGE|         TO PROPERTY|           RESIDENCE| false|   false| 511|       5|   9|            49|      14|     1180720|     1837168|2020|08/19/2020 03:51:...|41.708440181|-87.613796977|(41.708440181, -8...|\n",
      "+--------+-----------+-------------------+--------------------+----+--------------------+--------------------+--------------------+------+--------+----+--------+----+--------------+--------+------------+------------+----+--------------------+------------+-------------+--------------------+\n",
      "only showing top 20 rows\n",
      "\n"
     ]
    }
   ],
   "source": [
    "df.show()"
   ]
  },
  {
   "cell_type": "code",
   "execution_count": 194,
   "id": "26ee159a",
   "metadata": {},
   "outputs": [
    {
     "name": "stderr",
     "output_type": "stream",
     "text": [
      "[Stage 287:===========================================>           (11 + 3) / 14]\r"
     ]
    },
    {
     "name": "stdout",
     "output_type": "stream",
     "text": [
      "+---------------------------------+\n",
      "|Primary Type                     |\n",
      "+---------------------------------+\n",
      "|PROPERTY DAMAGE                  |\n",
      "|OFFENSE INVOLVING CHILDREN       |\n",
      "|SEX ASSAULT                      |\n",
      "|PUBLIC PEACE VIOLATION           |\n",
      "|WEAPONS                          |\n",
      "|OBSCENITY                        |\n",
      "|ASSAULT                          |\n",
      "|MURDER                           |\n",
      "|PUBLIC PEACE INTERFERENCE        |\n",
      "|HUMAN TRAFFICKING                |\n",
      "|INTIMIDATION                     |\n",
      "|DECEPTIVE PRACTICE               |\n",
      "|CONCEALED CARRY LICENSE VIOLATION|\n",
      "|ROBBERY/TRESPASS/THEFT/BURGLARY  |\n",
      "|SEX OFFENSE                      |\n",
      "|NARCOTICS                        |\n",
      "|NON-CRIMINAL                     |\n",
      "|RITUALISM/GAMBLING/LAW VIOLATION |\n",
      "|KIDNAPPING                       |\n",
      "|INDECENCY                        |\n",
      "+---------------------------------+\n",
      "\n"
     ]
    },
    {
     "name": "stderr",
     "output_type": "stream",
     "text": [
      "\r",
      "                                                                                \r"
     ]
    }
   ],
   "source": [
    "df.select(\"Primary Type\").distinct().show(100,False)"
   ]
  },
  {
   "cell_type": "markdown",
   "id": "c1033938",
   "metadata": {},
   "source": [
    "Analyze the data and present results:\n",
    "* Show year-wise trend of the crime for last ten years.\n",
    "* Find out at which hour of the day crime is highest.\n",
    "* Find top ten crimes and present them as a bar chart."
   ]
  },
  {
   "cell_type": "code",
   "execution_count": 195,
   "id": "0abedae1",
   "metadata": {},
   "outputs": [
    {
     "name": "stderr",
     "output_type": "stream",
     "text": [
      "                                                                                \r"
     ]
    },
    {
     "name": "stdout",
     "output_type": "stream",
     "text": [
      "+----+------+\n",
      "|Year| count|\n",
      "+----+------+\n",
      "|2013|287822|\n",
      "|2014|256123|\n",
      "|2015|239889|\n",
      "|2016|248589|\n",
      "|2017|246560|\n",
      "|2018|245378|\n",
      "|2019|240849|\n",
      "|2020|193864|\n",
      "|2021|187552|\n",
      "|2022|217404|\n",
      "|2023|190540|\n",
      "+----+------+\n",
      "\n"
     ]
    }
   ],
   "source": [
    "# Show year-wise trend of the crime for last ten years.\n",
    "crime_yearwise= df.groupBy(\"Year\").count().orderBy(\"Year\")\n",
    "crime_yearwise.show()"
   ]
  },
  {
   "cell_type": "code",
   "execution_count": 196,
   "id": "798f3de0",
   "metadata": {},
   "outputs": [
    {
     "name": "stderr",
     "output_type": "stream",
     "text": [
      "                                                                                \r"
     ]
    },
    {
     "data": {
      "image/png": "[encoded data removed]",
      "text/plain": [
       "<Figure size 640x480 with 1 Axes>"
      ]
     },
     "metadata": {},
     "output_type": "display_data"
    }
   ],
   "source": [
    "import seaborn as sns\n",
    "import matplotlib.pyplot as plt\n",
    "crime_yearwise_df = crime_yearwise.toPandas()\n",
    "sns.barplot(x=\"Year\", y=\"count\", data=crime_yearwise_df)\n",
    "plt.xticks(rotation=60)\n",
    "plt.xlabel(\"Year\")\n",
    "plt.ylabel(\"Total Count\")\n",
    "plt.title(\"Number of Crimes per Year\")\n",
    "plt.show()"
   ]
  },
  {
   "cell_type": "code",
   "execution_count": 197,
   "id": "b49477f3",
   "metadata": {},
   "outputs": [
    {
     "name": "stderr",
     "output_type": "stream",
     "text": [
      "                                                                                \r"
     ]
    },
    {
     "name": "stdout",
     "output_type": "stream",
     "text": [
      "+----+------+\n",
      "|hour| count|\n",
      "+----+------+\n",
      "|  12|147571|\n",
      "+----+------+\n",
      "only showing top 1 row\n",
      "\n"
     ]
    },
    {
     "name": "stderr",
     "output_type": "stream",
     "text": [
      "                                                                                \r"
     ]
    },
    {
     "data": {
      "image/png": "[encoded data removed]",
      "text/plain": [
       "<Figure size 1400x600 with 1 Axes>"
      ]
     },
     "metadata": {},
     "output_type": "display_data"
    }
   ],
   "source": [
    "from pyspark.sql.functions import hour, desc\n",
    "# Find out at which hour of the day crime is highest.\n",
    "crimehigh_hr = df.groupBy(hour(col(\"Date\")).alias(\"hour\")).count().orderBy(desc(\"count\"))\n",
    "crimehigh_hr.show(1)\n",
    "\n",
    "# Convert the Spark DataFrame to a Pandas DataFrame\n",
    "crimehigh_hr_df = crimehigh_hr.toPandas()\n",
    "\n",
    "# bar plot of the crime counts by hour\n",
    "fig, ax = plt.subplots(figsize=(14,6))\n",
    "ax.bar(crimehigh_hr_df['hour'], crimehigh_hr_df['count'], width=0.8)\n",
    "ax.set_xlabel('Hour of the day')\n",
    "ax.set_ylabel('Crime count')\n",
    "ax.set_title('Hourly Crime Distribution')\n",
    "plt.xticks(range(0,24))\n",
    "plt.show()"
   ]
  },
  {
   "cell_type": "code",
   "execution_count": 198,
   "id": "07a5c63c",
   "metadata": {},
   "outputs": [
    {
     "name": "stderr",
     "output_type": "stream",
     "text": [
      "[Stage 315:===========================================>           (11 + 3) / 14]\r"
     ]
    },
    {
     "name": "stdout",
     "output_type": "stream",
     "text": [
      "+--------------------+-------+\n",
      "|        Primary Type|  count|\n",
      "+--------------------+-------+\n",
      "|ROBBERY/TRESPASS/...|1047693|\n",
      "|             ASSAULT| 715807|\n",
      "|     PROPERTY DAMAGE| 301458|\n",
      "|  DECEPTIVE PRACTICE| 167670|\n",
      "|           NARCOTICS| 156468|\n",
      "|             WEAPONS|  62699|\n",
      "|OFFENSE INVOLVING...|  22491|\n",
      "|         SEX OFFENSE|  19598|\n",
      "|PUBLIC PEACE VIOL...|  17672|\n",
      "|         SEX ASSAULT|  15242|\n",
      "+--------------------+-------+\n",
      "\n"
     ]
    },
    {
     "name": "stderr",
     "output_type": "stream",
     "text": [
      "\r",
      "                                                                                \r"
     ]
    },
    {
     "data": {
      "image/png": "[encoded data removed]",
      "text/plain": [
       "<Figure size 1800x600 with 1 Axes>"
      ]
     },
     "metadata": {},
     "output_type": "display_data"
    }
   ],
   "source": [
    "top10_crimes = df.groupBy(\"Primary Type\").count().orderBy(\"count\", ascending=False).limit(10)\n",
    "top10_crimes_df = top10_crimes.toPandas()\n",
    "\n",
    "top10_crimes.show()\n",
    "\n",
    "plt.figure(figsize=(18,6))\n",
    "\n",
    "sns.barplot(data = top10_crimes_df, x = 'count', y = 'Primary Type')\n",
    "plt.bar(top10_crimes_df[\"count\"],top10_crimes_df[\"Primary Type\"])\n",
    "plt.ylabel(\"Crime Type\")\n",
    "plt.xlabel(\"No Of Crimes\")\n",
    "plt.title(\"Top Ten Crimes\")\n",
    "\n",
    "plt.show()"
   ]
  }
 ],
 "metadata": {
  "kernelspec": {
   "display_name": "Python 3 (ipykernel)",
   "language": "python",
   "name": "python3"
  },
  "language_info": {
   "codemirror_mode": {
    "name": "ipython",
    "version": 3
   },
   "file_extension": ".py",
   "mimetype": "text/x-python",
   "name": "python",
   "nbconvert_exporter": "python",
   "pygments_lexer": "ipython3",
   "version": "3.9.13"
  }
 },
 "nbformat": 4,
 "nbformat_minor": 5
}
